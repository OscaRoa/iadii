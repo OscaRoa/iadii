{
 "cells": [
  {
   "cell_type": "markdown",
   "metadata": {},
   "source": [
    "# Blackjack"
   ]
  },
  {
   "cell_type": "markdown",
   "metadata": {},
   "source": [
    "_El código siguiente simula cierto número de manos de dos cartas y devuelve la proporción de blackjacks obtenida._"
   ]
  },
  {
   "cell_type": "markdown",
   "metadata": {},
   "source": [
    "Comenzamos definiendo algunos objetos para representar las cartas y baraja, que está compuesta por cuatro mazos tradicionales."
   ]
  },
  {
   "cell_type": "code",
   "execution_count": 26,
   "metadata": {},
   "outputs": [],
   "source": [
    "rm(list=ls()) # Limpia el espacio de trabajo de R\n",
    "cartas <- c('A','K','Q','J','10',\n",
    "            '9','8','7','6','5',\n",
    "            '4','3','2') # Trece cartas por figura (digamos tréboles)\n",
    "baraja <- c(cartas,cartas,cartas,cartas) # Cuatro figuras por bajara (tréboles, corazones, diamantes, espadas)\n",
    "super_baraja <- c(baraja,baraja,baraja,baraja) # Cuatro barajas mezcladas"
   ]
  },
  {
   "cell_type": "code",
   "execution_count": null,
   "metadata": {},
   "outputs": [],
   "source": []
  },
  {
   "cell_type": "markdown",
   "metadata": {},
   "source": [
    "Podemos verificar algunas características de estos objetos: sabemos que debe haber 13 cartas de cada figura, 52 por baraja, y 208 en total."
   ]
  },
  {
   "cell_type": "code",
   "execution_count": 15,
   "metadata": {},
   "outputs": [
    {
     "data": {
      "text/html": [
       "13"
      ],
      "text/latex": [
       "13"
      ],
      "text/markdown": [
       "13"
      ],
      "text/plain": [
       "[1] 13"
      ]
     },
     "metadata": {},
     "output_type": "display_data"
    }
   ],
   "source": [
    "length(cartas)"
   ]
  },
  {
   "cell_type": "code",
   "execution_count": 16,
   "metadata": {},
   "outputs": [
    {
     "data": {
      "text/html": [
       "52"
      ],
      "text/latex": [
       "52"
      ],
      "text/markdown": [
       "52"
      ],
      "text/plain": [
       "[1] 52"
      ]
     },
     "metadata": {},
     "output_type": "display_data"
    }
   ],
   "source": [
    "length(baraja)"
   ]
  },
  {
   "cell_type": "code",
   "execution_count": 17,
   "metadata": {},
   "outputs": [
    {
     "data": {
      "text/html": [
       "208"
      ],
      "text/latex": [
       "208"
      ],
      "text/markdown": [
       "208"
      ],
      "text/plain": [
       "[1] 208"
      ]
     },
     "metadata": {},
     "output_type": "display_data"
    }
   ],
   "source": [
    "length(super_baraja)"
   ]
  },
  {
   "cell_type": "markdown",
   "metadata": {},
   "source": [
    "Además, la súper baraja debe terminar con dieciséis Ases, deciséis Reyes, etc."
   ]
  },
  {
   "cell_type": "code",
   "execution_count": 18,
   "metadata": {},
   "outputs": [
    {
     "data": {
      "text/html": [
       "16"
      ],
      "text/latex": [
       "16"
      ],
      "text/markdown": [
       "16"
      ],
      "text/plain": [
       "[1] 16"
      ]
     },
     "metadata": {},
     "output_type": "display_data"
    }
   ],
   "source": [
    "sum(super_baraja=='A')"
   ]
  },
  {
   "cell_type": "code",
   "execution_count": 19,
   "metadata": {},
   "outputs": [
    {
     "data": {
      "text/html": [
       "16"
      ],
      "text/latex": [
       "16"
      ],
      "text/markdown": [
       "16"
      ],
      "text/plain": [
       "[1] 16"
      ]
     },
     "metadata": {},
     "output_type": "display_data"
    }
   ],
   "source": [
    "sum(super_baraja=='K')"
   ]
  },
  {
   "cell_type": "markdown",
   "metadata": {},
   "source": [
    "Y como es un objeto relativamente pequeño, se puede imprimir completo en la consola:"
   ]
  },
  {
   "cell_type": "code",
   "execution_count": 20,
   "metadata": {},
   "outputs": [
    {
     "data": {
      "text/html": [
       "<style>\n",
       ".list-inline {list-style: none; margin:0; padding: 0}\n",
       ".list-inline>li {display: inline-block}\n",
       ".list-inline>li:not(:last-child)::after {content: \"\\00b7\"; padding: 0 .5ex}\n",
       "</style>\n",
       "<ol class=list-inline><li>'A'</li><li>'K'</li><li>'Q'</li><li>'J'</li><li>'10'</li><li>'9'</li><li>'8'</li><li>'7'</li><li>'6'</li><li>'5'</li><li>'4'</li><li>'3'</li><li>'2'</li><li>'A'</li><li>'K'</li><li>'Q'</li><li>'J'</li><li>'10'</li><li>'9'</li><li>'8'</li><li>'7'</li><li>'6'</li><li>'5'</li><li>'4'</li><li>'3'</li><li>'2'</li><li>'A'</li><li>'K'</li><li>'Q'</li><li>'J'</li><li>'10'</li><li>'9'</li><li>'8'</li><li>'7'</li><li>'6'</li><li>'5'</li><li>'4'</li><li>'3'</li><li>'2'</li><li>'A'</li><li>'K'</li><li>'Q'</li><li>'J'</li><li>'10'</li><li>'9'</li><li>'8'</li><li>'7'</li><li>'6'</li><li>'5'</li><li>'4'</li><li>'3'</li><li>'2'</li><li>'A'</li><li>'K'</li><li>'Q'</li><li>'J'</li><li>'10'</li><li>'9'</li><li>'8'</li><li>'7'</li><li>'6'</li><li>'5'</li><li>'4'</li><li>'3'</li><li>'2'</li><li>'A'</li><li>'K'</li><li>'Q'</li><li>'J'</li><li>'10'</li><li>'9'</li><li>'8'</li><li>'7'</li><li>'6'</li><li>'5'</li><li>'4'</li><li>'3'</li><li>'2'</li><li>'A'</li><li>'K'</li><li>'Q'</li><li>'J'</li><li>'10'</li><li>'9'</li><li>'8'</li><li>'7'</li><li>'6'</li><li>'5'</li><li>'4'</li><li>'3'</li><li>'2'</li><li>'A'</li><li>'K'</li><li>'Q'</li><li>'J'</li><li>'10'</li><li>'9'</li><li>'8'</li><li>'7'</li><li>'6'</li><li>'5'</li><li>'4'</li><li>'3'</li><li>'2'</li><li>'A'</li><li>'K'</li><li>'Q'</li><li>'J'</li><li>'10'</li><li>'9'</li><li>'8'</li><li>'7'</li><li>'6'</li><li>'5'</li><li>'4'</li><li>'3'</li><li>'2'</li><li>'A'</li><li>'K'</li><li>'Q'</li><li>'J'</li><li>'10'</li><li>'9'</li><li>'8'</li><li>'7'</li><li>'6'</li><li>'5'</li><li>'4'</li><li>'3'</li><li>'2'</li><li>'A'</li><li>'K'</li><li>'Q'</li><li>'J'</li><li>'10'</li><li>'9'</li><li>'8'</li><li>'7'</li><li>'6'</li><li>'5'</li><li>'4'</li><li>'3'</li><li>'2'</li><li>'A'</li><li>'K'</li><li>'Q'</li><li>'J'</li><li>'10'</li><li>'9'</li><li>'8'</li><li>'7'</li><li>'6'</li><li>'5'</li><li>'4'</li><li>'3'</li><li>'2'</li><li>'A'</li><li>'K'</li><li>'Q'</li><li>'J'</li><li>'10'</li><li>'9'</li><li>'8'</li><li>'7'</li><li>'6'</li><li>'5'</li><li>'4'</li><li>'3'</li><li>'2'</li><li>'A'</li><li>'K'</li><li>'Q'</li><li>'J'</li><li>'10'</li><li>'9'</li><li>'8'</li><li>'7'</li><li>'6'</li><li>'5'</li><li>'4'</li><li>'3'</li><li>'2'</li><li>'A'</li><li>'K'</li><li>'Q'</li><li>'J'</li><li>'10'</li><li>'9'</li><li>'8'</li><li>'7'</li><li>'6'</li><li>'5'</li><li>'4'</li><li>'3'</li><li>'2'</li><li>'A'</li><li>'K'</li><li>'Q'</li><li>'J'</li><li>'10'</li><li>'9'</li><li>'8'</li><li>'7'</li><li>'6'</li><li>'5'</li><li>'4'</li><li>'3'</li><li>'2'</li></ol>\n"
      ],
      "text/latex": [
       "\\begin{enumerate*}\n",
       "\\item 'A'\n",
       "\\item 'K'\n",
       "\\item 'Q'\n",
       "\\item 'J'\n",
       "\\item '10'\n",
       "\\item '9'\n",
       "\\item '8'\n",
       "\\item '7'\n",
       "\\item '6'\n",
       "\\item '5'\n",
       "\\item '4'\n",
       "\\item '3'\n",
       "\\item '2'\n",
       "\\item 'A'\n",
       "\\item 'K'\n",
       "\\item 'Q'\n",
       "\\item 'J'\n",
       "\\item '10'\n",
       "\\item '9'\n",
       "\\item '8'\n",
       "\\item '7'\n",
       "\\item '6'\n",
       "\\item '5'\n",
       "\\item '4'\n",
       "\\item '3'\n",
       "\\item '2'\n",
       "\\item 'A'\n",
       "\\item 'K'\n",
       "\\item 'Q'\n",
       "\\item 'J'\n",
       "\\item '10'\n",
       "\\item '9'\n",
       "\\item '8'\n",
       "\\item '7'\n",
       "\\item '6'\n",
       "\\item '5'\n",
       "\\item '4'\n",
       "\\item '3'\n",
       "\\item '2'\n",
       "\\item 'A'\n",
       "\\item 'K'\n",
       "\\item 'Q'\n",
       "\\item 'J'\n",
       "\\item '10'\n",
       "\\item '9'\n",
       "\\item '8'\n",
       "\\item '7'\n",
       "\\item '6'\n",
       "\\item '5'\n",
       "\\item '4'\n",
       "\\item '3'\n",
       "\\item '2'\n",
       "\\item 'A'\n",
       "\\item 'K'\n",
       "\\item 'Q'\n",
       "\\item 'J'\n",
       "\\item '10'\n",
       "\\item '9'\n",
       "\\item '8'\n",
       "\\item '7'\n",
       "\\item '6'\n",
       "\\item '5'\n",
       "\\item '4'\n",
       "\\item '3'\n",
       "\\item '2'\n",
       "\\item 'A'\n",
       "\\item 'K'\n",
       "\\item 'Q'\n",
       "\\item 'J'\n",
       "\\item '10'\n",
       "\\item '9'\n",
       "\\item '8'\n",
       "\\item '7'\n",
       "\\item '6'\n",
       "\\item '5'\n",
       "\\item '4'\n",
       "\\item '3'\n",
       "\\item '2'\n",
       "\\item 'A'\n",
       "\\item 'K'\n",
       "\\item 'Q'\n",
       "\\item 'J'\n",
       "\\item '10'\n",
       "\\item '9'\n",
       "\\item '8'\n",
       "\\item '7'\n",
       "\\item '6'\n",
       "\\item '5'\n",
       "\\item '4'\n",
       "\\item '3'\n",
       "\\item '2'\n",
       "\\item 'A'\n",
       "\\item 'K'\n",
       "\\item 'Q'\n",
       "\\item 'J'\n",
       "\\item '10'\n",
       "\\item '9'\n",
       "\\item '8'\n",
       "\\item '7'\n",
       "\\item '6'\n",
       "\\item '5'\n",
       "\\item '4'\n",
       "\\item '3'\n",
       "\\item '2'\n",
       "\\item 'A'\n",
       "\\item 'K'\n",
       "\\item 'Q'\n",
       "\\item 'J'\n",
       "\\item '10'\n",
       "\\item '9'\n",
       "\\item '8'\n",
       "\\item '7'\n",
       "\\item '6'\n",
       "\\item '5'\n",
       "\\item '4'\n",
       "\\item '3'\n",
       "\\item '2'\n",
       "\\item 'A'\n",
       "\\item 'K'\n",
       "\\item 'Q'\n",
       "\\item 'J'\n",
       "\\item '10'\n",
       "\\item '9'\n",
       "\\item '8'\n",
       "\\item '7'\n",
       "\\item '6'\n",
       "\\item '5'\n",
       "\\item '4'\n",
       "\\item '3'\n",
       "\\item '2'\n",
       "\\item 'A'\n",
       "\\item 'K'\n",
       "\\item 'Q'\n",
       "\\item 'J'\n",
       "\\item '10'\n",
       "\\item '9'\n",
       "\\item '8'\n",
       "\\item '7'\n",
       "\\item '6'\n",
       "\\item '5'\n",
       "\\item '4'\n",
       "\\item '3'\n",
       "\\item '2'\n",
       "\\item 'A'\n",
       "\\item 'K'\n",
       "\\item 'Q'\n",
       "\\item 'J'\n",
       "\\item '10'\n",
       "\\item '9'\n",
       "\\item '8'\n",
       "\\item '7'\n",
       "\\item '6'\n",
       "\\item '5'\n",
       "\\item '4'\n",
       "\\item '3'\n",
       "\\item '2'\n",
       "\\item 'A'\n",
       "\\item 'K'\n",
       "\\item 'Q'\n",
       "\\item 'J'\n",
       "\\item '10'\n",
       "\\item '9'\n",
       "\\item '8'\n",
       "\\item '7'\n",
       "\\item '6'\n",
       "\\item '5'\n",
       "\\item '4'\n",
       "\\item '3'\n",
       "\\item '2'\n",
       "\\item 'A'\n",
       "\\item 'K'\n",
       "\\item 'Q'\n",
       "\\item 'J'\n",
       "\\item '10'\n",
       "\\item '9'\n",
       "\\item '8'\n",
       "\\item '7'\n",
       "\\item '6'\n",
       "\\item '5'\n",
       "\\item '4'\n",
       "\\item '3'\n",
       "\\item '2'\n",
       "\\item 'A'\n",
       "\\item 'K'\n",
       "\\item 'Q'\n",
       "\\item 'J'\n",
       "\\item '10'\n",
       "\\item '9'\n",
       "\\item '8'\n",
       "\\item '7'\n",
       "\\item '6'\n",
       "\\item '5'\n",
       "\\item '4'\n",
       "\\item '3'\n",
       "\\item '2'\n",
       "\\item 'A'\n",
       "\\item 'K'\n",
       "\\item 'Q'\n",
       "\\item 'J'\n",
       "\\item '10'\n",
       "\\item '9'\n",
       "\\item '8'\n",
       "\\item '7'\n",
       "\\item '6'\n",
       "\\item '5'\n",
       "\\item '4'\n",
       "\\item '3'\n",
       "\\item '2'\n",
       "\\end{enumerate*}\n"
      ],
      "text/markdown": [
       "1. 'A'\n",
       "2. 'K'\n",
       "3. 'Q'\n",
       "4. 'J'\n",
       "5. '10'\n",
       "6. '9'\n",
       "7. '8'\n",
       "8. '7'\n",
       "9. '6'\n",
       "10. '5'\n",
       "11. '4'\n",
       "12. '3'\n",
       "13. '2'\n",
       "14. 'A'\n",
       "15. 'K'\n",
       "16. 'Q'\n",
       "17. 'J'\n",
       "18. '10'\n",
       "19. '9'\n",
       "20. '8'\n",
       "21. '7'\n",
       "22. '6'\n",
       "23. '5'\n",
       "24. '4'\n",
       "25. '3'\n",
       "26. '2'\n",
       "27. 'A'\n",
       "28. 'K'\n",
       "29. 'Q'\n",
       "30. 'J'\n",
       "31. '10'\n",
       "32. '9'\n",
       "33. '8'\n",
       "34. '7'\n",
       "35. '6'\n",
       "36. '5'\n",
       "37. '4'\n",
       "38. '3'\n",
       "39. '2'\n",
       "40. 'A'\n",
       "41. 'K'\n",
       "42. 'Q'\n",
       "43. 'J'\n",
       "44. '10'\n",
       "45. '9'\n",
       "46. '8'\n",
       "47. '7'\n",
       "48. '6'\n",
       "49. '5'\n",
       "50. '4'\n",
       "51. '3'\n",
       "52. '2'\n",
       "53. 'A'\n",
       "54. 'K'\n",
       "55. 'Q'\n",
       "56. 'J'\n",
       "57. '10'\n",
       "58. '9'\n",
       "59. '8'\n",
       "60. '7'\n",
       "61. '6'\n",
       "62. '5'\n",
       "63. '4'\n",
       "64. '3'\n",
       "65. '2'\n",
       "66. 'A'\n",
       "67. 'K'\n",
       "68. 'Q'\n",
       "69. 'J'\n",
       "70. '10'\n",
       "71. '9'\n",
       "72. '8'\n",
       "73. '7'\n",
       "74. '6'\n",
       "75. '5'\n",
       "76. '4'\n",
       "77. '3'\n",
       "78. '2'\n",
       "79. 'A'\n",
       "80. 'K'\n",
       "81. 'Q'\n",
       "82. 'J'\n",
       "83. '10'\n",
       "84. '9'\n",
       "85. '8'\n",
       "86. '7'\n",
       "87. '6'\n",
       "88. '5'\n",
       "89. '4'\n",
       "90. '3'\n",
       "91. '2'\n",
       "92. 'A'\n",
       "93. 'K'\n",
       "94. 'Q'\n",
       "95. 'J'\n",
       "96. '10'\n",
       "97. '9'\n",
       "98. '8'\n",
       "99. '7'\n",
       "100. '6'\n",
       "101. '5'\n",
       "102. '4'\n",
       "103. '3'\n",
       "104. '2'\n",
       "105. 'A'\n",
       "106. 'K'\n",
       "107. 'Q'\n",
       "108. 'J'\n",
       "109. '10'\n",
       "110. '9'\n",
       "111. '8'\n",
       "112. '7'\n",
       "113. '6'\n",
       "114. '5'\n",
       "115. '4'\n",
       "116. '3'\n",
       "117. '2'\n",
       "118. 'A'\n",
       "119. 'K'\n",
       "120. 'Q'\n",
       "121. 'J'\n",
       "122. '10'\n",
       "123. '9'\n",
       "124. '8'\n",
       "125. '7'\n",
       "126. '6'\n",
       "127. '5'\n",
       "128. '4'\n",
       "129. '3'\n",
       "130. '2'\n",
       "131. 'A'\n",
       "132. 'K'\n",
       "133. 'Q'\n",
       "134. 'J'\n",
       "135. '10'\n",
       "136. '9'\n",
       "137. '8'\n",
       "138. '7'\n",
       "139. '6'\n",
       "140. '5'\n",
       "141. '4'\n",
       "142. '3'\n",
       "143. '2'\n",
       "144. 'A'\n",
       "145. 'K'\n",
       "146. 'Q'\n",
       "147. 'J'\n",
       "148. '10'\n",
       "149. '9'\n",
       "150. '8'\n",
       "151. '7'\n",
       "152. '6'\n",
       "153. '5'\n",
       "154. '4'\n",
       "155. '3'\n",
       "156. '2'\n",
       "157. 'A'\n",
       "158. 'K'\n",
       "159. 'Q'\n",
       "160. 'J'\n",
       "161. '10'\n",
       "162. '9'\n",
       "163. '8'\n",
       "164. '7'\n",
       "165. '6'\n",
       "166. '5'\n",
       "167. '4'\n",
       "168. '3'\n",
       "169. '2'\n",
       "170. 'A'\n",
       "171. 'K'\n",
       "172. 'Q'\n",
       "173. 'J'\n",
       "174. '10'\n",
       "175. '9'\n",
       "176. '8'\n",
       "177. '7'\n",
       "178. '6'\n",
       "179. '5'\n",
       "180. '4'\n",
       "181. '3'\n",
       "182. '2'\n",
       "183. 'A'\n",
       "184. 'K'\n",
       "185. 'Q'\n",
       "186. 'J'\n",
       "187. '10'\n",
       "188. '9'\n",
       "189. '8'\n",
       "190. '7'\n",
       "191. '6'\n",
       "192. '5'\n",
       "193. '4'\n",
       "194. '3'\n",
       "195. '2'\n",
       "196. 'A'\n",
       "197. 'K'\n",
       "198. 'Q'\n",
       "199. 'J'\n",
       "200. '10'\n",
       "201. '9'\n",
       "202. '8'\n",
       "203. '7'\n",
       "204. '6'\n",
       "205. '5'\n",
       "206. '4'\n",
       "207. '3'\n",
       "208. '2'\n",
       "\n",
       "\n"
      ],
      "text/plain": [
       "  [1] \"A\"  \"K\"  \"Q\"  \"J\"  \"10\" \"9\"  \"8\"  \"7\"  \"6\"  \"5\"  \"4\"  \"3\"  \"2\"  \"A\"  \"K\" \n",
       " [16] \"Q\"  \"J\"  \"10\" \"9\"  \"8\"  \"7\"  \"6\"  \"5\"  \"4\"  \"3\"  \"2\"  \"A\"  \"K\"  \"Q\"  \"J\" \n",
       " [31] \"10\" \"9\"  \"8\"  \"7\"  \"6\"  \"5\"  \"4\"  \"3\"  \"2\"  \"A\"  \"K\"  \"Q\"  \"J\"  \"10\" \"9\" \n",
       " [46] \"8\"  \"7\"  \"6\"  \"5\"  \"4\"  \"3\"  \"2\"  \"A\"  \"K\"  \"Q\"  \"J\"  \"10\" \"9\"  \"8\"  \"7\" \n",
       " [61] \"6\"  \"5\"  \"4\"  \"3\"  \"2\"  \"A\"  \"K\"  \"Q\"  \"J\"  \"10\" \"9\"  \"8\"  \"7\"  \"6\"  \"5\" \n",
       " [76] \"4\"  \"3\"  \"2\"  \"A\"  \"K\"  \"Q\"  \"J\"  \"10\" \"9\"  \"8\"  \"7\"  \"6\"  \"5\"  \"4\"  \"3\" \n",
       " [91] \"2\"  \"A\"  \"K\"  \"Q\"  \"J\"  \"10\" \"9\"  \"8\"  \"7\"  \"6\"  \"5\"  \"4\"  \"3\"  \"2\"  \"A\" \n",
       "[106] \"K\"  \"Q\"  \"J\"  \"10\" \"9\"  \"8\"  \"7\"  \"6\"  \"5\"  \"4\"  \"3\"  \"2\"  \"A\"  \"K\"  \"Q\" \n",
       "[121] \"J\"  \"10\" \"9\"  \"8\"  \"7\"  \"6\"  \"5\"  \"4\"  \"3\"  \"2\"  \"A\"  \"K\"  \"Q\"  \"J\"  \"10\"\n",
       "[136] \"9\"  \"8\"  \"7\"  \"6\"  \"5\"  \"4\"  \"3\"  \"2\"  \"A\"  \"K\"  \"Q\"  \"J\"  \"10\" \"9\"  \"8\" \n",
       "[151] \"7\"  \"6\"  \"5\"  \"4\"  \"3\"  \"2\"  \"A\"  \"K\"  \"Q\"  \"J\"  \"10\" \"9\"  \"8\"  \"7\"  \"6\" \n",
       "[166] \"5\"  \"4\"  \"3\"  \"2\"  \"A\"  \"K\"  \"Q\"  \"J\"  \"10\" \"9\"  \"8\"  \"7\"  \"6\"  \"5\"  \"4\" \n",
       "[181] \"3\"  \"2\"  \"A\"  \"K\"  \"Q\"  \"J\"  \"10\" \"9\"  \"8\"  \"7\"  \"6\"  \"5\"  \"4\"  \"3\"  \"2\" \n",
       "[196] \"A\"  \"K\"  \"Q\"  \"J\"  \"10\" \"9\"  \"8\"  \"7\"  \"6\"  \"5\"  \"4\"  \"3\"  \"2\" "
      ]
     },
     "metadata": {},
     "output_type": "display_data"
    }
   ],
   "source": [
    "super_baraja"
   ]
  },
  {
   "cell_type": "markdown",
   "metadata": {},
   "source": [
    "Hay varias maneras de simular extracciones de este objeto y examinar la cantidad de blackjacks en ellas. En la siguiente, primero se define una función que simula una extracción de dos cartas, y después esa función se ejecuta varias veces registrando el número de blackjacks acumulados."
   ]
  },
  {
   "cell_type": "code",
   "execution_count": 21,
   "metadata": {},
   "outputs": [],
   "source": [
    "simulate_hand <-  function(){\n",
    "  # Esta función simula una extracción de dos cartas de la súper baraja (SB)\n",
    "    \n",
    "  # Primera carta:\n",
    "  indice_primera <- sample(1:length(super_baraja), # Extrae al azar un entero entre 1 y la longitud de la SB \n",
    "                           size=1, # (también se puede extraer más de un elemento) \n",
    "                           replace=F) # Con/sin reemplazo (irrelevante cuando size=1)\n",
    "  first_card <- super_baraja[indice_primera] # Extrae la primera carta...\n",
    "  super_after_first <- super_baraja[-indice_primera] # ...sácala de la súper baraja...\n",
    "  # Segunda carta:\n",
    "  indice_segunda <- sample(1:length(super_after_first), # ...y extrae otra posición de la baraja recortada.\n",
    "                           size=1,\n",
    "                           replace=F)\n",
    "  second_card <- super_after_first[indice_segunda] # Extrae segunda carta.\n",
    "  \n",
    "  # Mano\n",
    "  hand <- c(first_card,second_card)\n",
    "    return(hand)\n",
    "}"
   ]
  },
  {
   "cell_type": "markdown",
   "metadata": {},
   "source": [
    "Al ejecutar el código anterior únicamente se define la función, pero no se ejecuta. Para ver si funciona se puede correr directamente en la consola:"
   ]
  },
  {
   "cell_type": "code",
   "execution_count": 22,
   "metadata": {},
   "outputs": [
    {
     "data": {
      "text/html": [
       "<style>\n",
       ".list-inline {list-style: none; margin:0; padding: 0}\n",
       ".list-inline>li {display: inline-block}\n",
       ".list-inline>li:not(:last-child)::after {content: \"\\00b7\"; padding: 0 .5ex}\n",
       "</style>\n",
       "<ol class=list-inline><li>'10'</li><li>'2'</li></ol>\n"
      ],
      "text/latex": [
       "\\begin{enumerate*}\n",
       "\\item '10'\n",
       "\\item '2'\n",
       "\\end{enumerate*}\n"
      ],
      "text/markdown": [
       "1. '10'\n",
       "2. '2'\n",
       "\n",
       "\n"
      ],
      "text/plain": [
       "[1] \"10\" \"2\" "
      ]
     },
     "metadata": {},
     "output_type": "display_data"
    }
   ],
   "source": [
    "simulate_hand()"
   ]
  },
  {
   "cell_type": "code",
   "execution_count": 23,
   "metadata": {
    "scrolled": true
   },
   "outputs": [
    {
     "data": {
      "text/html": [
       "<style>\n",
       ".list-inline {list-style: none; margin:0; padding: 0}\n",
       ".list-inline>li {display: inline-block}\n",
       ".list-inline>li:not(:last-child)::after {content: \"\\00b7\"; padding: 0 .5ex}\n",
       "</style>\n",
       "<ol class=list-inline><li>'8'</li><li>'10'</li></ol>\n"
      ],
      "text/latex": [
       "\\begin{enumerate*}\n",
       "\\item '8'\n",
       "\\item '10'\n",
       "\\end{enumerate*}\n"
      ],
      "text/markdown": [
       "1. '8'\n",
       "2. '10'\n",
       "\n",
       "\n"
      ],
      "text/plain": [
       "[1] \"8\"  \"10\""
      ]
     },
     "metadata": {},
     "output_type": "display_data"
    }
   ],
   "source": [
    "simulate_hand()"
   ]
  },
  {
   "cell_type": "markdown",
   "metadata": {},
   "source": [
    "Desde luego cada resultado es diferente porque las extracciones son aleatorias. Es importante mencionar que la ejecución de una función en `R` generalmente no cambia los objetos en el espacio de trabajo. En este caso, el más importante, la `super_baraja`, conserva sus 208 elementos originales incluso después de correr la función varias veces (y de hecho el objeto `super_after_first`, definido _dentro_ de la función, ni siquiera existe en el espacio de `R`)."
   ]
  },
  {
   "cell_type": "code",
   "execution_count": 24,
   "metadata": {},
   "outputs": [
    {
     "data": {
      "text/html": [
       "208"
      ],
      "text/latex": [
       "208"
      ],
      "text/markdown": [
       "208"
      ],
      "text/plain": [
       "[1] 208"
      ]
     },
     "metadata": {},
     "output_type": "display_data"
    }
   ],
   "source": [
    "length(super_baraja)"
   ]
  },
  {
   "cell_type": "code",
   "execution_count": 25,
   "metadata": {},
   "outputs": [
    {
     "ename": "ERROR",
     "evalue": "Error in eval(expr, envir, enclos): objeto 'super_after_first' no encontrado\n",
     "output_type": "error",
     "traceback": [
      "Error in eval(expr, envir, enclos): objeto 'super_after_first' no encontrado\nTraceback:\n"
     ]
    }
   ],
   "source": [
    "super_after_first"
   ]
  },
  {
   "cell_type": "markdown",
   "metadata": {},
   "source": [
    "Para evaluar si en cada simulación tenemos un blackjack es conveniente escribir las comparaciones condicionales sobre un objetos fijos que tengan la misma estructura que la salida de la función, con el fin de cambiarlos intencionalmente y asegurarnos de que las comparaciones devuelven los resultados correctos. Por ejemplo, para preguntar cuáles elementos de cada mano son un As:"
   ]
  },
  {
   "cell_type": "code",
   "execution_count": null,
   "metadata": {},
   "outputs": [],
   "source": [
    "hand <- c('Q','A')\n",
    "hand=='A'\n",
    "hand <- c('A','A')\n",
    "hand=='A'\n",
    "hand <- c('A','7')\n",
    "hand=='A'\n",
    "hand <- c('5','10')\n",
    "hand=='A'"
   ]
  },
  {
   "cell_type": "markdown",
   "metadata": {},
   "source": [
    "Los objetos de tipo lógico como estos permiten ciertas operaciones aritméticas. Por ejemplo, para contar cuántos Ases tiene una mano:"
   ]
  },
  {
   "cell_type": "code",
   "execution_count": null,
   "metadata": {},
   "outputs": [],
   "source": [
    "hand <- c('Q','A')\n",
    "sum(hand=='A')\n",
    "hand <- c('A','A')\n",
    "sum(hand=='A')\n",
    "hand <- c('A','7')\n",
    "sum(hand=='A')\n",
    "hand <- c('5','10')\n",
    "sum(hand=='A')"
   ]
  },
  {
   "cell_type": "markdown",
   "metadata": {},
   "source": [
    "Y para preguntar si cierta mano tiene únicamente *un* As:"
   ]
  },
  {
   "cell_type": "code",
   "execution_count": null,
   "metadata": {},
   "outputs": [],
   "source": [
    "hand <- c('Q','A')\n",
    "sum(hand=='A')==1\n",
    "hand <- c('A','A')\n",
    "sum(hand=='A')==1\n",
    "hand <- c('A','7')\n",
    "sum(hand=='A')==1\n",
    "hand <- c('5','10')\n",
    "sum(hand=='A')==1"
   ]
  },
  {
   "cell_type": "markdown",
   "metadata": {},
   "source": [
    "Otras comparaciones lógicas en `R` permiten preguntar si cada elemento de cierto objeto también se encuentra en otro. En este caso, para preguntar si cada carta se encuentra dentro de las figuras y dieces:"
   ]
  },
  {
   "cell_type": "code",
   "execution_count": null,
   "metadata": {},
   "outputs": [],
   "source": [
    "hand <- c('Q','A')\n",
    "hand%in%c('K','Q','J','10')\n",
    "hand <- c('A','A')\n",
    "hand%in%c('K','Q','J','10')\n",
    "hand <- c('A','7')\n",
    "hand%in%c('K','Q','J','10')\n",
    "hand <- c('5','10')\n",
    "hand%in%c('K','Q','J','10')\n",
    "hand <- c('J','K')\n",
    "hand%in%c('K','Q','J','10')"
   ]
  },
  {
   "cell_type": "markdown",
   "metadata": {},
   "source": [
    "Y para preguntar cuántas cartas en cierta mano también pertenecen al otro conjunto:"
   ]
  },
  {
   "cell_type": "code",
   "execution_count": null,
   "metadata": {},
   "outputs": [],
   "source": [
    "hand <- c('Q','A')\n",
    "sum(hand%in%c('K','Q','J','10'))\n",
    "hand <- c('A','A')\n",
    "sum(hand%in%c('K','Q','J','10'))\n",
    "hand <- c('A','7')\n",
    "sum(hand%in%c('K','Q','J','10'))\n",
    "hand <- c('5','10')\n",
    "sum(hand%in%c('K','Q','J','10'))\n",
    "hand <- c('J','K')\n",
    "sum(hand%in%c('K','Q','J','10'))"
   ]
  },
  {
   "cell_type": "markdown",
   "metadata": {},
   "source": [
    "Finalmente, para preguntar si *una y sólo una* carta de la mano se encuentra entre los dieces y las figuras:"
   ]
  },
  {
   "cell_type": "code",
   "execution_count": null,
   "metadata": {},
   "outputs": [],
   "source": [
    "hand <- c('Q','A')\n",
    "sum(hand%in%c('K','Q','J','10'))==1\n",
    "hand <- c('A','A')\n",
    "sum(hand%in%c('K','Q','J','10'))==1\n",
    "hand <- c('A','7')\n",
    "sum(hand%in%c('K','Q','J','10'))==1\n",
    "hand <- c('5','10')\n",
    "sum(hand%in%c('K','Q','J','10'))==1\n",
    "hand <- c('J','K')\n",
    "sum(hand%in%c('K','Q','J','10'))==1"
   ]
  },
  {
   "cell_type": "markdown",
   "metadata": {},
   "source": [
    "Sabemos que ambas condiciones, `sum(hand=='A')==1` y `sum(hand%in%c('K','Q','J','10'))==1`, tienen que ser ciertas (y bastan) para que una mano sea blackjack. Para preguntarlas al mismo tiempo se utiliza la conjunción `&`:"
   ]
  },
  {
   "cell_type": "code",
   "execution_count": null,
   "metadata": {},
   "outputs": [],
   "source": [
    "hand <- c('Q','A')\n",
    "sum(hand=='A')==1&sum(hand%in%c('K','Q','J','10'))==1\n",
    "hand <- c('A','A')\n",
    "sum(hand=='A')==1&sum(hand%in%c('K','Q','J','10'))==1\n",
    "hand <- c('A','7')\n",
    "sum(hand=='A')==1&sum(hand%in%c('K','Q','J','10'))==1\n",
    "hand <- c('5','10')\n",
    "sum(hand=='A')==1&sum(hand%in%c('K','Q','J','10'))==1\n",
    "hand <- c('J','K')\n",
    "sum(hand=='A')==1&sum(hand%in%c('K','Q','J','10'))==1"
   ]
  },
  {
   "cell_type": "markdown",
   "metadata": {},
   "source": [
    "Con lo cual comprobamos que la pregunta `sum(hand=='A')==1&sum(hand%in%c('K','Q','J','10'))==1` identifica blackjacks correctamente. Podemos utilizarla sobre la salida de la función que simula manos porque dicha salida devuelve un objeto con la misma estructura que `hand`:"
   ]
  },
  {
   "cell_type": "code",
   "execution_count": null,
   "metadata": {},
   "outputs": [],
   "source": [
    "hand <- simulate_hand()\n",
    "print(hand)\n",
    "sum(hand=='A')==1&sum(hand%in%c('K','Q','J','10'))==1"
   ]
  },
  {
   "cell_type": "markdown",
   "metadata": {},
   "source": [
    "Las líneas siguientes repiten estas instrucciones varias veces, registrando el número de blackjacks obtenidos."
   ]
  },
  {
   "cell_type": "code",
   "execution_count": null,
   "metadata": {},
   "outputs": [],
   "source": [
    "n_hands <- 10000 # Número de manos a simular\n",
    "n_blckjck <- 0 # Contador de blackjacks en 'n_hands' manos\n",
    "for(i in 1:n_hands){ # Repite las instrucciones siguientes para cada elemento 'i' del vector '1:n_hands':\n",
    "    \n",
    "  # a. En cada iteración simula una mano (de dos cartas)\n",
    "  hand <- simulate_hand()\n",
    "  # b. y pregunta si es blackjack.  \n",
    "  if(sum(hand=='A')==1&sum(hand%in%c('K','Q','J','10'))==1){\n",
    "     # b1. En caso de que la mano sea blackjack\n",
    "        n_blckjck <- n_blckjck+1 # Agrega uno al conteo total de blckjcks.\n",
    "  }\n",
    "    \n",
    "}"
   ]
  },
  {
   "cell_type": "markdown",
   "metadata": {},
   "source": [
    "Examinando el número de manos, el total de blackjacks registrados, y calculando la proporción entre ellos:"
   ]
  },
  {
   "cell_type": "code",
   "execution_count": null,
   "metadata": {},
   "outputs": [],
   "source": [
    "print(n_hands)\n",
    "print(n_blckjck)\n",
    "print(n_blckjck/n_hands)"
   ]
  },
  {
   "cell_type": "markdown",
   "metadata": {},
   "source": [
    "En otras palabras, la célula de código anterior simula una noche en el casino compuesta por varias manos. Cada vez que se ejecutan el conteo de blackjacks obtenidos es diferente porque cada mano se extrae al azar. Para examinar la dispersión de dichos conteos a través de varias _noches en el casino_, es conveniente 1. guardar las instrucciones de arriba en una función para 2. ejecutarlas varias veces (por ejemplo para simular un año de visitas al casino) con código más compacto y mejor legible.\n",
    "\n",
    "Definiendo la función y corriéndola un par de veces:"
   ]
  },
  {
   "cell_type": "code",
   "execution_count": null,
   "metadata": {},
   "outputs": [],
   "source": [
    "casino_night <- function(n_hands){\n",
    "    # Esta función simula una noche en el casino en la que se observan 'n_hands' manos\n",
    "    \n",
    "    # Noten que 'n_hands' ya no se define dentro de la función,\n",
    "    # y en cambio pasa como un argumento.\n",
    "    \n",
    "    n_blckjck <- 0 # Contador de blackjacks en 'n_hands' manos\n",
    "    for(i in 1:n_hands){ # Repite las siguientes instrucciones para cada elemento 'i' del vector '1:n_hands':\n",
    "    \n",
    "        # a. En cada iteración simula una mano (de dos cartas)\n",
    "        hand <- simulate_hand()\n",
    "        # b. y pregunta si es blackjack.  \n",
    "        if(sum(hand=='A')==1&sum(hand%in%c('K','Q','J','10'))==1){ # En caso de que la mano sea blackjack:\n",
    "        # b1. Agrega uno al conteo total de blckjcks.\n",
    "            n_blckjck <- n_blckjck+1\n",
    "        }\n",
    "    }\n",
    "    return(n_blckjck/n_hands) # La función devuelve la prpoporción de blackjacks.\n",
    "}"
   ]
  },
  {
   "cell_type": "code",
   "execution_count": null,
   "metadata": {},
   "outputs": [],
   "source": [
    "casino_night(10000)"
   ]
  },
  {
   "cell_type": "code",
   "execution_count": null,
   "metadata": {},
   "outputs": [],
   "source": [
    "casino_night(10000)"
   ]
  },
  {
   "cell_type": "markdown",
   "metadata": {},
   "source": [
    "Cada ejecución de la función simula una noche compuesta por 10000 manos (aunque ese número puede cambiarse a voluntad). Para simular las 365 de un año:"
   ]
  },
  {
   "cell_type": "code",
   "execution_count": null,
   "metadata": {},
   "outputs": [],
   "source": [
    "nights <- NULL # Este objeto guardará la proporción de blckjcks registrada cada noche\n",
    "for(d in 1:365){\n",
    "    nights[d] <- casino_night(10000) # Suponiendo que la cantidad de manos por noche es constante\n",
    "}"
   ]
  },
  {
   "cell_type": "markdown",
   "metadata": {},
   "source": [
    "Ahora el vector `nights` contiene la proporción de blackjacks obtenida en cada noche de apuestas. Podemos examinar su contenido directamente en la consola y explorar la distribución de proporciones de manera visual construyendo un histograma. En la gráfica, la línea azul en x=0.0475 señala la solución teórica del problema."
   ]
  },
  {
   "cell_type": "code",
   "execution_count": null,
   "metadata": {
    "scrolled": true
   },
   "outputs": [],
   "source": [
    "nights"
   ]
  },
  {
   "cell_type": "code",
   "execution_count": null,
   "metadata": {
    "scrolled": true
   },
   "outputs": [],
   "source": [
    "hist(nights,xlim=c(0,0.1),breaks=seq(0,1,length.out = 800),col='#ee000088')\n",
    "abline(v=0.0475,col='#0000eeaa',lwd=4)"
   ]
  },
  {
   "cell_type": "markdown",
   "metadata": {},
   "source": [
    "**Ejercicios:**\n",
    "\n",
    "-Modifica el código para simular qué ocurre si sabemos que, antes de simular la primera mano, cuatro cartas que no son Ases ni Figuras ni Dieces ya fueron extraídas de la súper baraja.  \n",
    "\n",
    "-Modifica el código para simular que cada noche se juegan 1000 manos, en lugar de 10000. ¿Esperas algún cambio en el histograma final? Describe qué cambia y qué no, y explica esos resultados.\n",
    "\n",
    "-El programa actual simula la misma cantidad de manos por noche. ¿Cómo cambiarías el código para simular una persona que comienza jugando pocas manos por noche, pero que aumenta ese número conforme avanza el año? Escribe tus modificaciones y discute los resultados.\n",
    "\n",
    "-(Opcional) la función `simulate_hand()` actualmente simula manos de dos cartas, pero una mano en un juego real puede contener más de dos. Modifica dicha función para que extraiga tantas cartas de la súper baraja como solicite el usuario, y cambia los condicionales necesarios para evaluar si cada mano de varias cartas suma menos de 21, 21 exactos, o se pasa de 21. \n"
   ]
  },
  {
   "cell_type": "markdown",
   "metadata": {},
   "source": [
    "**Soluciones:**\n",
    "\n",
    "*-Modifica el código para simular qué ocurre si sabemos que, antes de simular la primera mano, cuatro cartas que no son Ases ni Figuras ni Dieces ya fueron extraídas de la súper baraja.*\n",
    "\n",
    "**Una** posible solución consiste en agregar la línea 7 en la célula siguiente, que elimina cuatro posiciones que tienen cartas con número de la súper baraja. El histograma resultante se encuentra dezplazado a la derecha respecto de la solución al problema original (todavía representada por la línea azul), lo cual indica que la proporción de blackjacks en general es más alta utilizando la nueva baraja recortada."
   ]
  },
  {
   "cell_type": "code",
   "execution_count": null,
   "metadata": {},
   "outputs": [],
   "source": [
    "cartas <- c('A','K','Q','J','10',\n",
    "            '9','8','7','6','5',\n",
    "            '4','3','2') # Trece cartas por figura (digamos tréboles)\n",
    "baraja <- c(cartas,cartas,cartas,cartas) # Cuatro figuras por bajara (tréboles, corazones, diamantes, espadas)\n",
    "super_baraja <- c(baraja,baraja,baraja,baraja) # Cuatro barajas mezcladas\n",
    "\n",
    "super_baraja <- super_baraja[-c(6,7,8,9)] # Elimina las posiciones 6 a 9 en la súper baraja, que corresponden con cartas con número.\n",
    "\n",
    "nights <- NULL # Este objeto guardará la proporción de blckjcks registrada cada noche\n",
    "for(d in 1:365){\n",
    "    nights[d] <- casino_night(10000) # Suponiendo que la cantidad de manos por noche es constante\n",
    "}\n",
    "hist(nights,xlim=c(0,0.1),breaks=seq(0,1,length.out = 800),col='#ee000088')\n",
    "abline(v=0.0475,col='#0000eeaa',lwd=4)"
   ]
  },
  {
   "cell_type": "markdown",
   "metadata": {},
   "source": [
    "*-Modifica el código para simular que cada noche se juegan 1000 manos, en lugar de 10000. ¿Esperas algún cambio en el histograma final? Describe qué cambia y qué no, y explica esos resultados.*\n",
    "\n",
    "La modificación se encuentra en la línea 11 de la célula siguiente, que controla el número de manos que se juegan por noche. El resultado es una varianza mayor en las proporciones de blackjack por noche."
   ]
  },
  {
   "cell_type": "code",
   "execution_count": null,
   "metadata": {},
   "outputs": [],
   "source": [
    "cartas <- c('A','K','Q','J','10',\n",
    "            '9','8','7','6','5',\n",
    "            '4','3','2') # Trece cartas por figura (digamos tréboles)\n",
    "baraja <- c(cartas,cartas,cartas,cartas) # Cuatro figuras por bajara (tréboles, corazones, diamantes, espadas)\n",
    "super_baraja <- c(baraja,baraja,baraja,baraja) # Cuatro barajas mezcladas\n",
    "\n",
    "#super_baraja <- super_baraja[-c(6,7,8,9)] # Elimina las posiciones 6 a 9 en la súper baraja, que corresponden con cartas con número.\n",
    "\n",
    "nights <- NULL # Este objeto guardará la proporción de blckjcks registrada cada noche\n",
    "for(d in 1:365){\n",
    "    nights[d] <- casino_night(1000) # Suponiendo que la cantidad de manos por noche es constante\n",
    "}\n",
    "hist(nights,xlim=c(0,0.1),breaks=seq(0,1,length.out = 800),col='#ee000088')\n",
    "abline(v=0.0475,col='#0000eeaa',lwd=4)"
   ]
  },
  {
   "cell_type": "markdown",
   "metadata": {},
   "source": [
    "Se puede mejorar la definición del último histograma simulando diez años en lugar de uno. En este último ejemplo parece que hay \"picos\" en algunos puntos específicos de la distribución. ¿Cómo los explicas?"
   ]
  },
  {
   "cell_type": "code",
   "execution_count": null,
   "metadata": {},
   "outputs": [],
   "source": [
    "cartas <- c('A','K','Q','J','10',\n",
    "            '9','8','7','6','5',\n",
    "            '4','3','2') # Trece cartas por figura (digamos tréboles)\n",
    "baraja <- c(cartas,cartas,cartas,cartas) # Cuatro figuras por bajara (tréboles, corazones, diamantes, espadas)\n",
    "super_baraja <- c(baraja,baraja,baraja,baraja) # Cuatro barajas mezcladas\n",
    "\n",
    "#super_baraja <- super_baraja[-c(6,7,8,9)] # Elimina las posiciones 6 a 9 en la súper baraja, que corresponden con cartas con número.\n",
    "\n",
    "nights <- NULL # Este objeto guardará la proporción de blckjcks registrada cada noche\n",
    "for(d in 1:3650){\n",
    "    nights[d] <- casino_night(1000) # Suponiendo que la cantidad de manos por noche es constante\n",
    "}\n",
    "hist(nights,xlim=c(0,0.1),breaks=seq(0,1,length.out = 800),col='#ee000088')\n",
    "abline(v=0.0475,col='#0000eeaa',lwd=4)"
   ]
  },
  {
   "cell_type": "markdown",
   "metadata": {},
   "source": [
    "*-El programa actual simula la misma cantidad de manos por noche. ¿Cómo cambiarías el código para simular una persona que comienza jugando pocas manos por noche, pero que aumenta ese número conforme avanza el año? Escribe tus modificaciones y discute los resultados.*\n",
    "\n",
    "Hay varias formas de resolver este ejercicio, aunque la idea en todas es la misma: la cantidad de manos por noche debe de estar en función del día del año, y debe ser creciente: conforme avanza el tiempo, la cantidad de manos aumenta. Es posible inventar una cantidad infinita de funciones que cumplen esta característica; la más sencilla una función lineal. \n",
    "\n",
    "**Una** forma de especificar dicha función consiste en elegir dos puntos arbitrarios por los que debe pasar la línea recta y encontrar la ecuación correspondiente. En concreto, si queremos que el primer día se juegen 50 manos y el último día 100, el problema consiste en encontrar la ecuación de la línea recta que se muestra en el diagrama:"
   ]
  },
  {
   "cell_type": "code",
   "execution_count": null,
   "metadata": {},
   "outputs": [],
   "source": [
    "plot(x=c(1,365),y=c(50,100),\n",
    "     xlim=c(-50,420),ylim=c(0,150),type='o',pch=21,cex=3,bg='#00ee00',lwd=3,\n",
    "     axes=F,ann=F)\n",
    "axis(1,at=c(1,365));axis(2)\n",
    "mtext('Día (d)',1,cex=1.5,line=2)\n",
    "mtext('Número de manos (m)',2,cex=1.5,line=2.5)\n",
    "text(365,100,'(d2=365, m2=100)',cex=1.25,adj=c(0.5,-2))\n",
    "text(1,50,'(d1=1, m1=50)',cex=1.25,adj=c(0.5,2.5))"
   ]
  },
  {
   "cell_type": "markdown",
   "metadata": {},
   "source": [
    "En otras palabras, estamos buscando los coeficientes $\\beta_1$ (pendiente) y $\\beta_0$ (intercepto) de la función:\n",
    "\n",
    "$$m=\\beta_1d+\\beta_0$$\n",
    "\n",
    "En un modelo lineal, la pendiente está definida como el cambio en $y$ por cada unidad en $x$:\n",
    "\n",
    "$$\\beta_1=\\frac{m2-m1}{d2-d1}=\\frac{100-50}{365-1}=\\frac{50}{364}\\approx0.137$$\n",
    "\n",
    "Y, conociendo la pendiente y _cualquier_ punto de la línea, es posible encontrar la función completa de acuerdo con:\n",
    "\n",
    "$$m-m1=\\beta_1(d-d1)$$\n",
    "\n",
    "$$m-50=\\beta_1(d-1)$$\n",
    "\n",
    "$$m=\\beta_1(d-1)+50$$\n",
    "\n",
    "$$m=\\beta_1d-\\beta_1+50$$\n",
    "\n",
    "En donde implícitamente tenemos el intercepto $\\beta_0=50-\\beta_1$. Sustituyendo:\n",
    "\n",
    "$$m=0.137d-0.137+50$$\n",
    "\n",
    "$$m=0.137d+49.863$$\n",
    "\n",
    "Para comprobar que esta ecuación pasa por los dos puntos deseados podemos agregar su gráfica en el diagrama anterior:"
   ]
  },
  {
   "cell_type": "code",
   "execution_count": null,
   "metadata": {
    "scrolled": true
   },
   "outputs": [],
   "source": [
    "plot(x=c(1,365),y=c(50,100),\n",
    "     xlim=c(-50,420),ylim=c(0,150),type='o',pch=21,cex=3,col='#cccccc',bg='#00ee00',lwd=7,\n",
    "     axes=F,ann=F)\n",
    "# Evaluando la función recién calculada\n",
    "d=-40:440\n",
    "m=0.137*d+49.863\n",
    "lines(d,m,lwd=3,col='#0055ee') # Grafica la función con una línea azul\n",
    "points(x=c(1,365),y=c(50,100),cex=3,lwd=3)\n",
    "axis(1,at=c(1,365));axis(2)\n",
    "mtext('Día (d)',1,cex=1.5,line=2)\n",
    "mtext('Número de manos (m)',2,cex=1.5,line=2.5)\n",
    "text(365,100,'(d2=365, m2=100)',cex=1.25,adj=c(0.5,-2))\n",
    "text(1,50,'(d1=1, m1=50)',cex=1.25,adj=c(0.5,2.5))"
   ]
  },
  {
   "cell_type": "markdown",
   "metadata": {},
   "source": [
    "Si examinamos el resultado en el objeto `m` lo más probable es encontrar cantidades decimales:"
   ]
  },
  {
   "cell_type": "code",
   "execution_count": null,
   "metadata": {},
   "outputs": [],
   "source": [
    "m"
   ]
  },
  {
   "cell_type": "markdown",
   "metadata": {},
   "source": [
    "Desde luego, no es posible utilizar estos valores en la simulación porque `m` representa la cantidad de manos por noche, un número entero. Sin embargo, podemos redondear este vector, y examinar gráficamente el resultado del redondeo para tener una idea clara de la función \"real\" a simular:"
   ]
  },
  {
   "cell_type": "code",
   "execution_count": null,
   "metadata": {
    "scrolled": false
   },
   "outputs": [],
   "source": [
    "plot(x=c(1,365),y=c(50,100),\n",
    "     xlim=c(-50,420),ylim=c(0,150),type='o',pch=21,cex=3,col='#cccccc',bg='#00ee00',lwd=7,\n",
    "     axes=F,ann=F)\n",
    "# Evaluando la función recién calculada\n",
    "d=-40:440\n",
    "m=0.137*d+49.863\n",
    "lines(d,round(m),lwd=3,col='#0055ee') # Grafica la función con una línea punteada azul\n",
    "points(x=c(1,365),y=c(50,100),cex=3,lwd=3)\n",
    "axis(1,at=c(1,365));axis(2)\n",
    "mtext('Día (d)',1,cex=1.5,line=2)\n",
    "mtext('Número de manos (m)',2,cex=1.5,line=2.5)\n",
    "text(365,100,'(d2=365, m2=100)',cex=1.25,adj=c(0.5,-2))\n",
    "text(1,50,'(d1=1, m1=50)',cex=1.25,adj=c(0.5,2.5))"
   ]
  },
  {
   "cell_type": "markdown",
   "metadata": {},
   "source": [
    "Con lo cual tenemos una idea aproximada, al menos visualmente, del tamaño del efecto del redondeo respecto de otros parámetros y escalas (días del año y número de manos) de la simulación.\n",
    "\n",
    "Incluyendo estas modificaciones en la simulación final:"
   ]
  },
  {
   "cell_type": "code",
   "execution_count": null,
   "metadata": {
    "scrolled": true
   },
   "outputs": [],
   "source": [
    "cartas <- c('A','K','Q','J','10',\n",
    "            '9','8','7','6','5',\n",
    "            '4','3','2') # Trece cartas por figura (digamos tréboles)\n",
    "baraja <- c(cartas,cartas,cartas,cartas) # Cuatro figuras por bajara (tréboles, corazones, diamantes, espadas)\n",
    "super_baraja <- c(baraja,baraja,baraja,baraja) # Cuatro barajas mezcladas\n",
    "\n",
    "#super_baraja <- super_baraja[-c(6,7,8,9)] # Elimina las posiciones 6 a 9 en la súper baraja, que corresponden con cartas con número.\n",
    "\n",
    "nights <- NULL # Este objeto guardará la proporción de blckjcks registrada cada noche\n",
    "for(d in 1:3650){\n",
    "    nights[d] <- casino_night(round(0.137*d+49.863)) # La cantidad de manos por noche es función lineal del día del año\n",
    "}\n",
    "hist(nights,xlim=c(0,0.1),breaks=seq(0,1,length.out = 800),col='#ee000088')\n",
    "abline(v=0.0475,col='#0000eeaa',lwd=4)"
   ]
  },
  {
   "cell_type": "markdown",
   "metadata": {},
   "source": [
    "En esta simulación extendimos hasta diez años para apreciar las consecuencias a largo plazo del modelo lineal. La función garantiza que el conteo de manos en el primer día y en el último día del primer año son 50 y 100, respectivamente, pero también nos permite responder _¿qué pasa si el número de manos continúa aumentando 0.137 manos por noche, durante diez años?_ \n",
    "\n",
    "Siempre es recomendable examinar el comportamiento de los modelos y simulaciones en escenarios extremos, con la intención de comprender mejor la relación entre ambos antes de correr un experimento o procedimientos de inferencia sobre cierto modelo probabilístico. En este caso, por ejemplo, cuando examinamos cómo se mueve la proporción de blackjacks si el número de manos aumenta cierta constante por noche, conseguimos el siguiente diagrama de dispersión que, además de mostrar la reducción esperada en la varianza de proporciones, y mostrar que la media de las mismas tiende hacia la solución teórica, también muestra algunos patrones interesantes en dichas proporciones. ¿A qué crees que se deben?"
   ]
  },
  {
   "cell_type": "code",
   "execution_count": null,
   "metadata": {},
   "outputs": [],
   "source": [
    "plot(1:3650,nights,ann=F)\n",
    "abline(h=0.0475,col='#0000eeaa',lwd=4)\n",
    "mtext('Día (d)',1,cex=1.5,line=2.5)\n",
    "mtext('Proporción de blackjacks',2,cex=1.5,line=2.5)"
   ]
  }
 ],
 "metadata": {
  "kernelspec": {
   "display_name": "R",
   "language": "R",
   "name": "ir"
  },
  "language_info": {
   "codemirror_mode": "r",
   "file_extension": ".r",
   "mimetype": "text/x-r-source",
   "name": "R",
   "pygments_lexer": "r",
   "version": "3.6.1"
  }
 },
 "nbformat": 4,
 "nbformat_minor": 4
}
